{
  "nbformat": 4,
  "nbformat_minor": 0,
  "metadata": {
    "colab": {
      "provenance": [],
      "authorship_tag": "ABX9TyPJqyKmtkJPFJpDBls8uzLC",
      "include_colab_link": true
    },
    "kernelspec": {
      "name": "python3",
      "display_name": "Python 3"
    },
    "language_info": {
      "name": "python"
    }
  },
  "cells": [
    {
      "cell_type": "markdown",
      "metadata": {
        "id": "view-in-github",
        "colab_type": "text"
      },
      "source": [
        "<a href=\"https://colab.research.google.com/github/SupriyaSingh1997/Python_Basics_Assignment/blob/main/Programming_Assignment_8.ipynb\" target=\"_parent\"><img src=\"https://colab.research.google.com/assets/colab-badge.svg\" alt=\"Open In Colab\"/></a>"
      ]
    },
    {
      "cell_type": "code",
      "execution_count": 1,
      "metadata": {
        "colab": {
          "base_uri": "https://localhost:8080/"
        },
        "id": "4xmYcFri_bRA",
        "outputId": "490ec2d3-1c40-4af6-fe11-3bb1d92b480c"
      },
      "outputs": [
        {
          "output_type": "stream",
          "name": "stdout",
          "text": [
            "[[10, 10, 10], [10, 10, 10], [10, 10, 10]]\n"
          ]
        }
      ],
      "source": [
        "#1\n",
        "def add_matrices(matrix1, matrix2):\n",
        "    result = []\n",
        "    for i in range(len(matrix1)):\n",
        "        row = []\n",
        "        for j in range(len(matrix1[i])):\n",
        "            row.append(matrix1[i][j] + matrix2[i][j])\n",
        "        result.append(row)\n",
        "    return result\n",
        "\n",
        "# Example usage\n",
        "matrix1 = [[1, 2, 3], [4, 5, 6], [7, 8, 9]]\n",
        "matrix2 = [[9, 8, 7], [6, 5, 4], [3, 2, 1]]\n",
        "result = add_matrices(matrix1, matrix2)\n",
        "print(result)\n"
      ]
    },
    {
      "cell_type": "code",
      "source": [
        "#2\n",
        "def multiply_matrices(matrix1, matrix2):\n",
        "    result = []\n",
        "    for i in range(len(matrix1)):\n",
        "        row = []\n",
        "        for j in range(len(matrix2[0])):\n",
        "            sum = 0\n",
        "            for k in range(len(matrix2)):\n",
        "                sum += matrix1[i][k] * matrix2[k][j]\n",
        "            row.append(sum)\n",
        "        result.append(row)\n",
        "    return result\n",
        "\n",
        "# Example usage\n",
        "matrix1 = [[1, 2], [3, 4]]\n",
        "matrix2 = [[5, 6], [7, 8]]\n",
        "result = multiply_matrices(matrix1, matrix2)\n",
        "print(result)\n"
      ],
      "metadata": {
        "colab": {
          "base_uri": "https://localhost:8080/"
        },
        "id": "Aan6MosW_eud",
        "outputId": "18a47b5e-4652-49ba-b676-69521a3708b0"
      },
      "execution_count": 2,
      "outputs": [
        {
          "output_type": "stream",
          "name": "stdout",
          "text": [
            "[[19, 22], [43, 50]]\n"
          ]
        }
      ]
    },
    {
      "cell_type": "code",
      "source": [
        "#3\n",
        "def transpose_matrix(matrix):\n",
        "    result = []\n",
        "    for i in range(len(matrix[0])):\n",
        "        row = []\n",
        "        for j in range(len(matrix)):\n",
        "            row.append(matrix[j][i])\n",
        "        result.append(row)\n",
        "    return result\n",
        "\n",
        "# Example usage\n",
        "matrix = [[1, 2, 3], [4, 5, 6], [7, 8, 9]]\n",
        "result = transpose_matrix(matrix)\n",
        "print(result)\n"
      ],
      "metadata": {
        "colab": {
          "base_uri": "https://localhost:8080/"
        },
        "id": "QT81PF2e_g9T",
        "outputId": "748059ce-3de2-4bf2-c41b-613c313fdf3d"
      },
      "execution_count": 3,
      "outputs": [
        {
          "output_type": "stream",
          "name": "stdout",
          "text": [
            "[[1, 4, 7], [2, 5, 8], [3, 6, 9]]\n"
          ]
        }
      ]
    },
    {
      "cell_type": "code",
      "source": [
        "#4\n",
        "def sort_words(string):\n",
        "    words = string.split()\n",
        "    words.sort()\n",
        "    return ' '.join(words)\n",
        "\n",
        "# Example usage\n",
        "string = \"hello world how are you\"\n",
        "result = sort_words(string)\n",
        "print(result)\n"
      ],
      "metadata": {
        "colab": {
          "base_uri": "https://localhost:8080/"
        },
        "id": "XBk9wvE3_jyH",
        "outputId": "14cbf220-5c99-4ba5-9fad-1f03476f6b28"
      },
      "execution_count": 4,
      "outputs": [
        {
          "output_type": "stream",
          "name": "stdout",
          "text": [
            "are hello how world you\n"
          ]
        }
      ]
    },
    {
      "cell_type": "code",
      "source": [
        "#5\n",
        "import string\n",
        "\n",
        "def remove_punctuation(string):\n",
        "    punctuation_chars = string.punctuation\n",
        "    translator = str.maketrans('', '', punctuation_chars)\n",
        "    return string.translate(translator)\n",
        "\n",
        "# Example usage\n",
        "string = \"Hello, World!\"\n",
        "result = remove_punctuation(string)\n",
        "print(result)\n"
      ],
      "metadata": {
        "id": "Zi1MFuni_5Bl"
      },
      "execution_count": null,
      "outputs": []
    }
  ]
}