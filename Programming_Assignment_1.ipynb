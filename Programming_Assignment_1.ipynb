{
  "nbformat": 4,
  "nbformat_minor": 0,
  "metadata": {
    "colab": {
      "provenance": [],
      "authorship_tag": "ABX9TyMIyGqfxCVKbfPU9JaWg8yN",
      "include_colab_link": true
    },
    "kernelspec": {
      "name": "python3",
      "display_name": "Python 3"
    },
    "language_info": {
      "name": "python"
    }
  },
  "cells": [
    {
      "cell_type": "markdown",
      "metadata": {
        "id": "view-in-github",
        "colab_type": "text"
      },
      "source": [
        "<a href=\"https://colab.research.google.com/github/SupriyaSingh1997/Python_Basics_Assignment/blob/main/Programming_Assignment_1.ipynb\" target=\"_parent\"><img src=\"https://colab.research.google.com/assets/colab-badge.svg\" alt=\"Open In Colab\"/></a>"
      ]
    },
    {
      "cell_type": "code",
      "execution_count": 1,
      "metadata": {
        "colab": {
          "base_uri": "https://localhost:8080/"
        },
        "id": "cik1zZDEFFmC",
        "outputId": "482a149c-4f4c-4454-bd1e-5cf1711316ed"
      },
      "outputs": [
        {
          "output_type": "stream",
          "name": "stdout",
          "text": [
            "Hello Python\n"
          ]
        }
      ],
      "source": [
        "#1\n",
        "print(\"Hello Python\")\n"
      ]
    },
    {
      "cell_type": "code",
      "source": [
        "#2\n",
        "num1 = float(input(\"Enter the first number: \"))\n",
        "num2 = float(input(\"Enter the second number: \"))\n",
        "\n",
        "addition = num1 + num2\n",
        "division = num1 / num2\n",
        "\n",
        "print(\"Addition:\", addition)\n",
        "print(\"Division:\", division)\n"
      ],
      "metadata": {
        "colab": {
          "base_uri": "https://localhost:8080/"
        },
        "id": "_q2MHWX0FLUU",
        "outputId": "7d18ff78-c869-4f48-8dab-400c2be14b02"
      },
      "execution_count": 2,
      "outputs": [
        {
          "output_type": "stream",
          "name": "stdout",
          "text": [
            "Enter the first number: 4\n",
            "Enter the second number: 2\n",
            "Addition: 6.0\n",
            "Division: 2.0\n"
          ]
        }
      ]
    },
    {
      "cell_type": "code",
      "source": [
        "#3\n",
        "base = float(input(\"Enter the base length of the triangle: \"))\n",
        "height = float(input(\"Enter the height of the triangle: \"))\n",
        "\n",
        "area = 0.5 * base * height\n",
        "\n",
        "print(\"Area of the triangle:\", area)\n"
      ],
      "metadata": {
        "colab": {
          "base_uri": "https://localhost:8080/"
        },
        "id": "c4x5H4WUFNKK",
        "outputId": "e0a392c7-c8dc-4d13-b094-0600e206aff7"
      },
      "execution_count": 3,
      "outputs": [
        {
          "output_type": "stream",
          "name": "stdout",
          "text": [
            "Enter the base length of the triangle: 9\n",
            "Enter the height of the triangle: 8\n",
            "Area of the triangle: 36.0\n"
          ]
        }
      ]
    },
    {
      "cell_type": "code",
      "source": [
        "#4\n",
        "a = input(\"Enter the value of variable a: \")\n",
        "b = input(\"Enter the value of variable b: \")\n",
        "\n",
        "print(\"Before swapping - a:\", a, \"b:\", b)\n",
        "\n",
        "temp = a\n",
        "a = b\n",
        "b = temp\n",
        "\n",
        "print(\"After swapping - a:\", a, \"b:\", b)\n"
      ],
      "metadata": {
        "colab": {
          "base_uri": "https://localhost:8080/"
        },
        "id": "3UP0yVK9FQcp",
        "outputId": "c6a6c4f6-6eb9-4c33-8ddc-802919711276"
      },
      "execution_count": 4,
      "outputs": [
        {
          "output_type": "stream",
          "name": "stdout",
          "text": [
            "Enter the value of variable a: 7\n",
            "Enter the value of variable b: 3\n",
            "Before swapping - a: 7 b: 3\n",
            "After swapping - a: 3 b: 7\n"
          ]
        }
      ]
    },
    {
      "cell_type": "code",
      "source": [
        "#5\n",
        "import random\n",
        "\n",
        "random_number = random.randint(1, 100)\n",
        "\n",
        "print(\"Random number:\", random_number)\n"
      ],
      "metadata": {
        "colab": {
          "base_uri": "https://localhost:8080/"
        },
        "id": "uLZzl9lKFVH7",
        "outputId": "1e834398-78de-496c-c1d5-6f0ed4cc41a5"
      },
      "execution_count": 5,
      "outputs": [
        {
          "output_type": "stream",
          "name": "stdout",
          "text": [
            "Random number: 61\n"
          ]
        }
      ]
    }
  ]
}