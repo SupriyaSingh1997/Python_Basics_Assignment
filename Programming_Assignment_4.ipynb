{
  "nbformat": 4,
  "nbformat_minor": 0,
  "metadata": {
    "colab": {
      "provenance": [],
      "authorship_tag": "ABX9TyMkQiz1kje1Vxs7hff73u5+",
      "include_colab_link": true
    },
    "kernelspec": {
      "name": "python3",
      "display_name": "Python 3"
    },
    "language_info": {
      "name": "python"
    }
  },
  "cells": [
    {
      "cell_type": "markdown",
      "metadata": {
        "id": "view-in-github",
        "colab_type": "text"
      },
      "source": [
        "<a href=\"https://colab.research.google.com/github/SupriyaSingh1997/Python_Basics_Assignment/blob/main/Programming_Assignment_4.ipynb\" target=\"_parent\"><img src=\"https://colab.research.google.com/assets/colab-badge.svg\" alt=\"Open In Colab\"/></a>"
      ]
    },
    {
      "cell_type": "code",
      "execution_count": 1,
      "metadata": {
        "colab": {
          "base_uri": "https://localhost:8080/"
        },
        "id": "p-svhAwODBCZ",
        "outputId": "7ea940b3-4844-4c3c-d58e-04e4d0e899ba"
      },
      "outputs": [
        {
          "output_type": "stream",
          "name": "stdout",
          "text": [
            "Enter a number: 4\n",
            "4 x 1 = 4\n",
            "4 x 2 = 8\n",
            "4 x 3 = 12\n",
            "4 x 4 = 16\n",
            "4 x 5 = 20\n",
            "4 x 6 = 24\n",
            "4 x 7 = 28\n",
            "4 x 8 = 32\n",
            "4 x 9 = 36\n",
            "4 x 10 = 40\n"
          ]
        }
      ],
      "source": [
        "#1\n",
        "num = int(input(\"Enter a number: \"))\n",
        "\n",
        "# Display multiplication table\n",
        "for i in range(1, 11):\n",
        "   print(num, 'x', i, '=', num * i)\n"
      ]
    },
    {
      "cell_type": "code",
      "source": [
        "#2\n",
        "n = int(input(\"Enter the number of terms: \"))\n",
        "\n",
        "# Fibonacci sequence\n",
        "a, b = 0, 1\n",
        "print(\"Fibonacci Sequence:\")\n",
        "print(a)\n",
        "print(b)\n",
        "\n",
        "for _ in range(n - 2):\n",
        "    c = a + b\n",
        "    print(c)\n",
        "    a, b = b, c\n"
      ],
      "metadata": {
        "colab": {
          "base_uri": "https://localhost:8080/"
        },
        "id": "kIhDyeJXDB7J",
        "outputId": "17ab7818-56f9-4089-da77-8fd86d9e3ad0"
      },
      "execution_count": 3,
      "outputs": [
        {
          "output_type": "stream",
          "name": "stdout",
          "text": [
            "Enter the number of terms: 5\n",
            "Fibonacci Sequence:\n",
            "0\n",
            "1\n",
            "1\n",
            "2\n",
            "3\n"
          ]
        }
      ]
    },
    {
      "cell_type": "code",
      "source": [
        "#3\n",
        "num = int(input(\"Enter a number: \"))\n",
        "\n",
        "# Check if it's an Armstrong number\n",
        "temp = num\n",
        "sum = 0\n",
        "\n",
        "while temp > 0:\n",
        "    digit = temp % 10\n",
        "    sum += digit ** 3\n",
        "    temp //= 10\n",
        "\n",
        "if num == sum:\n",
        "    print(num, \"is an Armstrong number\")\n",
        "else:\n",
        "    print(num, \"is not an Armstrong number\")\n"
      ],
      "metadata": {
        "colab": {
          "base_uri": "https://localhost:8080/"
        },
        "id": "WZN6ZM_CDETP",
        "outputId": "52c31c6f-b0ea-4a13-ffb4-ace170693a21"
      },
      "execution_count": 4,
      "outputs": [
        {
          "output_type": "stream",
          "name": "stdout",
          "text": [
            "Enter a number: 4\n",
            "4 is not an Armstrong number\n"
          ]
        }
      ]
    },
    {
      "cell_type": "code",
      "source": [
        "#4\n",
        "lower = int(input(\"Enter the lower bound of the interval: \"))\n",
        "upper = int(input(\"Enter the upper bound of the interval: \"))\n",
        "\n",
        "print(\"Armstrong numbers in the given interval:\")\n",
        "for num in range(lower, upper + 1):\n",
        "    temp = num\n",
        "    sum = 0\n",
        "    order = len(str(num))\n",
        "\n",
        "    while temp > 0:\n",
        "        digit = temp % 10\n",
        "        sum += digit ** order\n",
        "        temp //= 10\n",
        "\n",
        "    if num == sum:\n",
        "        print(num)\n"
      ],
      "metadata": {
        "colab": {
          "base_uri": "https://localhost:8080/"
        },
        "id": "BTQuGCkODL1o",
        "outputId": "dd2e672d-4792-4547-cb83-f03f846c747a"
      },
      "execution_count": 5,
      "outputs": [
        {
          "output_type": "stream",
          "name": "stdout",
          "text": [
            "Enter the lower bound of the interval: 1\n",
            "Enter the upper bound of the interval: 5\n",
            "Armstrong numbers in the given interval:\n",
            "1\n",
            "2\n",
            "3\n",
            "4\n",
            "5\n"
          ]
        }
      ]
    },
    {
      "cell_type": "code",
      "source": [
        "#5\n",
        "n = int(input(\"Enter a positive integer: \"))\n",
        "\n",
        "# Calculate the sum of natural numbers\n",
        "sum = 0\n",
        "for i in range(1, n + 1):\n",
        "    sum += i\n",
        "\n",
        "print(\"The sum of natural numbers up to\", n, \"is\", sum)\n"
      ],
      "metadata": {
        "colab": {
          "base_uri": "https://localhost:8080/"
        },
        "id": "2a8P--dCDOkg",
        "outputId": "878be951-9d44-458d-a2ab-7d4ec71b2362"
      },
      "execution_count": 6,
      "outputs": [
        {
          "output_type": "stream",
          "name": "stdout",
          "text": [
            "Enter a positive integer: 5\n",
            "The sum of natural numbers up to 5 is 15\n"
          ]
        }
      ]
    }
  ]
}