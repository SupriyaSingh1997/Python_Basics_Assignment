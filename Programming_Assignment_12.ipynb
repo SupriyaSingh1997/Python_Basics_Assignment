{
  "nbformat": 4,
  "nbformat_minor": 0,
  "metadata": {
    "colab": {
      "provenance": [],
      "authorship_tag": "ABX9TyMT+8vwuBXSGCqmXC3q9wCL",
      "include_colab_link": true
    },
    "kernelspec": {
      "name": "python3",
      "display_name": "Python 3"
    },
    "language_info": {
      "name": "python"
    }
  },
  "cells": [
    {
      "cell_type": "markdown",
      "metadata": {
        "id": "view-in-github",
        "colab_type": "text"
      },
      "source": [
        "<a href=\"https://colab.research.google.com/github/SupriyaSingh1997/Python_Basics_Assignment/blob/main/Programming_Assignment_12.ipynb\" target=\"_parent\"><img src=\"https://colab.research.google.com/assets/colab-badge.svg\" alt=\"Open In Colab\"/></a>"
      ]
    },
    {
      "cell_type": "code",
      "execution_count": 1,
      "metadata": {
        "colab": {
          "base_uri": "https://localhost:8080/"
        },
        "id": "W4EampFv7YWM",
        "outputId": "baa10280-4891-4a45-feca-81eb376af053"
      },
      "outputs": [
        {
          "output_type": "stream",
          "name": "stdout",
          "text": [
            "{1, 2, 3, 4}\n"
          ]
        }
      ],
      "source": [
        "#1\n",
        "def extract_unique_values(dictionary):\n",
        "    unique_values = set()\n",
        "    for values in dictionary.values():\n",
        "        if isinstance(values, list):\n",
        "            unique_values.update(values)\n",
        "        else:\n",
        "            unique_values.add(values)\n",
        "    return unique_values\n",
        "\n",
        "# Example usage:\n",
        "my_dict = {\n",
        "    'key1': [1, 2, 3],\n",
        "    'key2': [2, 3, 4],\n",
        "    'key3': 4\n",
        "}\n",
        "unique_values = extract_unique_values(my_dict)\n",
        "print(unique_values)\n"
      ]
    },
    {
      "cell_type": "code",
      "source": [
        "#2\n",
        "def sum_dictionary(dictionary):\n",
        "    total = sum(dictionary.values())\n",
        "    return total\n",
        "\n",
        "# Example usage:\n",
        "my_dict = {'a': 10, 'b': 20, 'c': 30}\n",
        "result = sum_dictionary(my_dict)\n",
        "print(result)\n"
      ],
      "metadata": {
        "colab": {
          "base_uri": "https://localhost:8080/"
        },
        "id": "xNYShM5O7b2C",
        "outputId": "8f344d70-ba53-4af9-bc8f-5215ee5bfa4a"
      },
      "execution_count": 2,
      "outputs": [
        {
          "output_type": "stream",
          "name": "stdout",
          "text": [
            "60\n"
          ]
        }
      ]
    },
    {
      "cell_type": "code",
      "source": [
        "#3\n",
        "def merge_dictionaries(dict1, dict2):\n",
        "    merged_dict = {**dict1, **dict2}\n",
        "    return merged_dict\n",
        "\n",
        "# Example usage:\n",
        "dict1 = {'a': 10, 'b': 20}\n",
        "dict2 = {'c': 30, 'd': 40}\n",
        "merged_dict = merge_dictionaries(dict1, dict2)\n",
        "print(merged_dict)\n"
      ],
      "metadata": {
        "colab": {
          "base_uri": "https://localhost:8080/"
        },
        "id": "moJLdlDM7erY",
        "outputId": "39f632ea-e236-431e-bb09-ebc0a9c1044c"
      },
      "execution_count": 3,
      "outputs": [
        {
          "output_type": "stream",
          "name": "stdout",
          "text": [
            "{'a': 10, 'b': 20, 'c': 30, 'd': 40}\n"
          ]
        }
      ]
    },
    {
      "cell_type": "code",
      "source": [
        "#4\n",
        "def convert_to_flat_dictionary(key_value_list):\n",
        "    flat_dict = {}\n",
        "    for key, value in key_value_list:\n",
        "        flat_dict[key] = value\n",
        "    return flat_dict\n",
        "\n",
        "# Example usage:\n",
        "key_value_list = [('a', 10), ('b', 20), ('c', 30)]\n",
        "flat_dict = convert_to_flat_dictionary(key_value_list)\n",
        "print(flat_dict)\n"
      ],
      "metadata": {
        "colab": {
          "base_uri": "https://localhost:8080/"
        },
        "id": "S00NtxkU7hgA",
        "outputId": "10c5be45-f6ab-42ed-ed44-025a389ddb03"
      },
      "execution_count": 4,
      "outputs": [
        {
          "output_type": "stream",
          "name": "stdout",
          "text": [
            "{'a': 10, 'b': 20, 'c': 30}\n"
          ]
        }
      ]
    },
    {
      "cell_type": "code",
      "source": [
        "#5\n",
        "from collections import OrderedDict\n",
        "\n",
        "def insert_at_beginning(ordered_dict, key, value):\n",
        "    if key in ordered_dict:\n",
        "        del ordered_dict[key]\n",
        "    ordered_dict[key] = value\n",
        "\n",
        "# Example usage:\n",
        "ordered_dict = OrderedDict([('a', 1), ('b', 2), ('c', 3)])\n",
        "insert_at_beginning(ordered_dict, 'x', 0)\n",
        "print(ordered_dict)\n",
        "\n"
      ],
      "metadata": {
        "colab": {
          "base_uri": "https://localhost:8080/"
        },
        "id": "lE9iMNi67lj3",
        "outputId": "94230c15-c8a2-4224-eae7-1523cc5b0f01"
      },
      "execution_count": 10,
      "outputs": [
        {
          "output_type": "stream",
          "name": "stdout",
          "text": [
            "OrderedDict([('a', 1), ('b', 2), ('c', 3), ('x', 0)])\n"
          ]
        }
      ]
    },
    {
      "cell_type": "code",
      "source": [
        "#6\n",
        "from collections import OrderedDict\n",
        "\n",
        "def check_order_of_characters(string, pattern):\n",
        "    ordered_dict = OrderedDict.fromkeys(string)\n",
        "    pattern_length = 0\n",
        "    for key in ordered_dict:\n",
        "        if key == pattern[pattern_length]:\n",
        "            pattern_length += 1\n",
        "        if pattern_length == len(pattern):\n",
        "            return True\n",
        "    return False\n",
        "\n",
        "# Example usage:\n",
        "string = 'hello world'\n",
        "pattern = 'oow'\n",
        "result = check_order_of_characters(string, pattern)\n",
        "print(result)\n"
      ],
      "metadata": {
        "colab": {
          "base_uri": "https://localhost:8080/"
        },
        "id": "Nv9BiYRp7oXb",
        "outputId": "f7c14d32-534d-4e96-d558-a714a4977a36"
      },
      "execution_count": 7,
      "outputs": [
        {
          "output_type": "stream",
          "name": "stdout",
          "text": [
            "False\n"
          ]
        }
      ]
    },
    {
      "cell_type": "code",
      "source": [
        "#7\n",
        "def sort_dictionary(dictionary, by_key=True):\n",
        "    sorted_dict = {}\n",
        "    if by_key:\n",
        "        sorted_keys = sorted(dictionary.keys())\n",
        "        for key in sorted_keys:\n",
        "            sorted_dict[key] = dictionary[key]\n",
        "    else:\n",
        "        sorted_items = sorted(dictionary.items(), key=lambda x: x[1])\n",
        "        for item in sorted_items:\n",
        "            sorted_dict[item[0]] = item[1]\n",
        "    return sorted_dict\n",
        "\n",
        "# Example usage:\n",
        "my_dict = {'c': 30, 'a': 10, 'b': 20}\n",
        "sorted_by_key = sort_dictionary(my_dict, by_key=True)\n",
        "print(sorted_by_key)\n",
        "\n",
        "\n"
      ],
      "metadata": {
        "colab": {
          "base_uri": "https://localhost:8080/"
        },
        "id": "8P9kRTPO7x5d",
        "outputId": "0f6fd1b0-561b-455b-f50e-0234a3494042"
      },
      "execution_count": 8,
      "outputs": [
        {
          "output_type": "stream",
          "name": "stdout",
          "text": [
            "{'a': 10, 'b': 20, 'c': 30}\n"
          ]
        }
      ]
    }
  ]
}