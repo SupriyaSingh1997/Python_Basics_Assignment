{
  "nbformat": 4,
  "nbformat_minor": 0,
  "metadata": {
    "colab": {
      "provenance": [],
      "authorship_tag": "ABX9TyNtLeo5MDIi7HglaymJ22bl",
      "include_colab_link": true
    },
    "kernelspec": {
      "name": "python3",
      "display_name": "Python 3"
    },
    "language_info": {
      "name": "python"
    }
  },
  "cells": [
    {
      "cell_type": "markdown",
      "metadata": {
        "id": "view-in-github",
        "colab_type": "text"
      },
      "source": [
        "<a href=\"https://colab.research.google.com/github/SupriyaSingh1997/Python_Basics_Assignment/blob/main/Programming_Assignment_7.ipynb\" target=\"_parent\"><img src=\"https://colab.research.google.com/assets/colab-badge.svg\" alt=\"Open In Colab\"/></a>"
      ]
    },
    {
      "cell_type": "code",
      "execution_count": 1,
      "metadata": {
        "colab": {
          "base_uri": "https://localhost:8080/"
        },
        "id": "IUTXCyEgAfas",
        "outputId": "09f98d5c-cf4a-4aaa-81e3-059067607a44"
      },
      "outputs": [
        {
          "output_type": "stream",
          "name": "stdout",
          "text": [
            "Sum of the array: 15\n"
          ]
        }
      ],
      "source": [
        "#1\n",
        "def array_sum(arr):\n",
        "    sum = 0\n",
        "    for num in arr:\n",
        "        sum += num\n",
        "    return sum\n",
        "\n",
        "# Example usage\n",
        "my_array = [1, 2, 3, 4, 5]\n",
        "print(\"Sum of the array:\", array_sum(my_array))\n"
      ]
    },
    {
      "cell_type": "code",
      "source": [
        "#2\n",
        "def find_largest(arr):\n",
        "    max_element = arr[0]\n",
        "    for num in arr:\n",
        "        if num > max_element:\n",
        "            max_element = num\n",
        "    return max_element\n",
        "\n",
        "# Example usage\n",
        "my_array = [1, 8, 3, 11, 5]\n",
        "print(\"Largest element in the array:\", find_largest(my_array))\n"
      ],
      "metadata": {
        "colab": {
          "base_uri": "https://localhost:8080/"
        },
        "id": "f7UDV_5UAg7_",
        "outputId": "d3dc894e-15ab-45c0-9230-12479c4f267f"
      },
      "execution_count": 2,
      "outputs": [
        {
          "output_type": "stream",
          "name": "stdout",
          "text": [
            "Largest element in the array: 11\n"
          ]
        }
      ]
    },
    {
      "cell_type": "code",
      "source": [
        "#3\n",
        "def rotate_array(arr, k):\n",
        "    n = len(arr)\n",
        "    k = k % n  # To handle cases where k > n\n",
        "    rotated_array = arr[k:] + arr[:k]\n",
        "    return rotated_array\n",
        "\n",
        "# Example usage\n",
        "my_array = [1, 2, 3, 4, 5]\n",
        "rotation_amount = 2\n",
        "rotated_array = rotate_array(my_array, rotation_amount)\n",
        "print(\"Rotated array:\", rotated_array)\n"
      ],
      "metadata": {
        "colab": {
          "base_uri": "https://localhost:8080/"
        },
        "id": "BA_DvhQ4Ajb3",
        "outputId": "e1019340-7d74-4384-f953-48715ae4e0d0"
      },
      "execution_count": 3,
      "outputs": [
        {
          "output_type": "stream",
          "name": "stdout",
          "text": [
            "Rotated array: [3, 4, 5, 1, 2]\n"
          ]
        }
      ]
    },
    {
      "cell_type": "code",
      "source": [
        "#4\n",
        "def split_and_add(arr, split_index):\n",
        "    split_index = split_index % len(arr)\n",
        "    split_array = arr[:split_index]\n",
        "    remaining_array = arr[split_index:]\n",
        "    return remaining_array + split_array\n",
        "\n",
        "# Example usage\n",
        "my_array = [1, 2, 3, 4, 5]\n",
        "split_index = 2\n",
        "modified_array = split_and_add(my_array, split_index)\n",
        "print(\"Modified array:\", modified_array)\n"
      ],
      "metadata": {
        "colab": {
          "base_uri": "https://localhost:8080/"
        },
        "id": "kMeOohf3AoBC",
        "outputId": "cae8adea-35b9-4465-9def-39553e59e454"
      },
      "execution_count": 4,
      "outputs": [
        {
          "output_type": "stream",
          "name": "stdout",
          "text": [
            "Modified array: [3, 4, 5, 1, 2]\n"
          ]
        }
      ]
    },
    {
      "cell_type": "code",
      "source": [
        "#5\n",
        "def is_monotonic(arr):\n",
        "    increasing = decreasing = True\n",
        "\n",
        "    for i in range(1, len(arr)):\n",
        "        if arr[i] < arr[i - 1]:\n",
        "            increasing = False\n",
        "        if arr[i] > arr[i - 1]:\n",
        "            decreasing = False\n",
        "\n",
        "    return increasing or decreasing\n",
        "\n",
        "# Example usage\n",
        "monotonic_array = [1, 2, 3, 4, 5]\n",
        "non_monotonic_array = [1, 3, 2, 4, 5]\n",
        "print(\"Is the array monotonic?\", is_monotonic(monotonic_array))\n",
        "print(\"Is the array monotonic?\", is_monotonic(non_monotonic_array))\n"
      ],
      "metadata": {
        "colab": {
          "base_uri": "https://localhost:8080/"
        },
        "id": "Rmoco5jBAqJS",
        "outputId": "24cfceb9-096f-42e2-af36-065b557860ea"
      },
      "execution_count": 5,
      "outputs": [
        {
          "output_type": "stream",
          "name": "stdout",
          "text": [
            "Is the array monotonic? True\n",
            "Is the array monotonic? False\n"
          ]
        }
      ]
    },
    {
      "cell_type": "code",
      "source": [],
      "metadata": {
        "id": "f3o75qVRAsqw"
      },
      "execution_count": null,
      "outputs": []
    }
  ]
}