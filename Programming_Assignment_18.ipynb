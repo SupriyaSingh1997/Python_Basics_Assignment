{
  "nbformat": 4,
  "nbformat_minor": 0,
  "metadata": {
    "colab": {
      "provenance": [],
      "authorship_tag": "ABX9TyMMDfULJsrdZAhEGlGHnCHU",
      "include_colab_link": true
    },
    "kernelspec": {
      "name": "python3",
      "display_name": "Python 3"
    },
    "language_info": {
      "name": "python"
    }
  },
  "cells": [
    {
      "cell_type": "markdown",
      "metadata": {
        "id": "view-in-github",
        "colab_type": "text"
      },
      "source": [
        "<a href=\"https://colab.research.google.com/github/SupriyaSingh1997/Python_Basics_Assignment/blob/main/Programming_Assignment_18.ipynb\" target=\"_parent\"><img src=\"https://colab.research.google.com/assets/colab-badge.svg\" alt=\"Open In Colab\"/></a>"
      ]
    },
    {
      "cell_type": "code",
      "execution_count": 1,
      "metadata": {
        "colab": {
          "base_uri": "https://localhost:8080/"
        },
        "id": "XXsIhRdssVhW",
        "outputId": "a594085f-46d5-4f84-e642-579a117b3dee"
      },
      "outputs": [
        {
          "output_type": "stream",
          "name": "stdout",
          "text": [
            "[1, 2]\n"
          ]
        }
      ],
      "source": [
        "\"\"\"Question 1\n",
        "Create a function that takes a list of non-negative integers and strings and return a new list\n",
        "without the strings.\n",
        "Examples\n",
        "filter_list([1, 2, &quot;a&quot;, &quot;b&quot;]) ➞ [1, 2]\n",
        "filter_list([1, &quot;a&quot;, &quot;b&quot;, 0, 15]) ➞ [1, 0, 15]\n",
        "filter_list([1, 2, &quot;aasf&quot;, &quot;1&quot;, &quot;123&quot;, 123]) ➞ [1, 2, 123]\"\"\"\n",
        "\n",
        "def filter_list(lst):\n",
        "    return [x for x in lst if isinstance(x, int)]\n",
        "print(filter_list([1, 2, \"a\", \"b\"]))\n"
      ]
    },
    {
      "cell_type": "code",
      "source": [
        "\"\"\"Question 2\n",
        "The &quot;Reverser&quot; takes a string as input and returns that string in reverse order, with the\n",
        "opposite case.\n",
        "Examples\n",
        "reverse(&quot;Hello World&quot;) ➞ &quot;DLROw OLLEh&quot;\n",
        "reverse(&quot;ReVeRsE&quot;) ➞ &quot;eSrEvEr&quot;\n",
        "reverse(&quot;Radar&quot;) ➞ &quot;RADAr&quot;\"\"\"\n",
        "\n",
        "def reverse(string):\n",
        "    reversed_string = string[::-1]  # Reverse the string using slicing\n",
        "    return reversed_string.swapcase()  # Swap the case of each character\n",
        "\n",
        "print(reverse(\"Hello World\"))\n"
      ],
      "metadata": {
        "colab": {
          "base_uri": "https://localhost:8080/"
        },
        "id": "o8G7i4mvscZN",
        "outputId": "5041d48d-104f-43d7-e683-d250a9ce2dd9"
      },
      "execution_count": 2,
      "outputs": [
        {
          "output_type": "stream",
          "name": "stdout",
          "text": [
            "DLROw OLLEh\n"
          ]
        }
      ]
    },
    {
      "cell_type": "code",
      "source": [
        "\"\"\"Question 3\n",
        "You can assign variables from lists like this:\n",
        "lst = [1, 2, 3, 4, 5, 6]\n",
        "first = lst[0]\n",
        "middle = lst[1:-1]\n",
        "last = lst[-1]\n",
        "print(first) ➞ outputs 1\n",
        "print(middle) ➞ outputs [2, 3, 4, 5]\n",
        "print(last) ➞ outputs 6\n",
        "With Python 3, you can assign variables from lists in a much more succinct way. Create\n",
        "variables first, middle and last from the given list using destructuring assignment\n",
        "(check the Resources tab for some examples), where:\n",
        "first ➞ 1\n",
        "middle ➞ [2, 3, 4, 5]\n",
        "last ➞ 6\n",
        "\n",
        "Your task is to unpack the list writeyourcodehere into three variables, being first,\n",
        "middle, and last, with middle being everything in between the first and last element. Then\n",
        "print all three variables.\"\"\"\n",
        "\n",
        "writeyourcodehere = [1, 2, 3, 4, 5, 6]\n",
        "\n",
        "first, *middle, last = writeyourcodehere\n",
        "\n",
        "print(first)"
      ],
      "metadata": {
        "colab": {
          "base_uri": "https://localhost:8080/"
        },
        "id": "q3KusMzVslZV",
        "outputId": "d108a583-1309-42cf-8b7c-b63a16d03dda"
      },
      "execution_count": 3,
      "outputs": [
        {
          "output_type": "stream",
          "name": "stdout",
          "text": [
            "1\n"
          ]
        }
      ]
    },
    {
      "cell_type": "code",
      "source": [
        "\"\"\"Question 4\n",
        "Write a function that calculates the factorial of a number recursively.\n",
        "Examples\n",
        "factorial(5) ➞ 120\n",
        "factorial(3) ➞ 6\n",
        "factorial(1) ➞ 1\n",
        "factorial(0) ➞ 1\"\"\"\n",
        "\n",
        "def factorial(n):\n",
        "    if n == 0 or n == 1:\n",
        "        return 1\n",
        "    else:\n",
        "        return n * factorial(n - 1)\n",
        "\n",
        "# Example usage:\n",
        "print(factorial(5))"
      ],
      "metadata": {
        "colab": {
          "base_uri": "https://localhost:8080/"
        },
        "id": "qeaSAHeLsqui",
        "outputId": "5772ec1e-a208-46c8-d8f7-d96a2d7a5a8c"
      },
      "execution_count": 4,
      "outputs": [
        {
          "output_type": "stream",
          "name": "stdout",
          "text": [
            "120\n"
          ]
        }
      ]
    },
    {
      "cell_type": "code",
      "source": [
        "\"\"\"Question 5\n",
        "Write a function that moves all elements of one type to the end of the list.\n",
        "Examples\n",
        "move_to_end([1, 3, 2, 4, 4, 1], 1) ➞ [3, 2, 4, 4, 1, 1]\n",
        "# Move all the 1s to the end of the array.\n",
        "move_to_end([7, 8, 9, 1, 2, 3, 4], 9) ➞ [7, 8, 1, 2, 3, 4, 9]\n",
        "move_to_end([&quot;a&quot;, &quot;a&quot;, &quot;a&quot;, &quot;b&quot;], &quot;a&quot;) ➞ [&quot;b&quot;, &quot;a&quot;, &quot;a&quot;, &quot;a&quot;]\"\"\"\n",
        "\n",
        "def move_to_end(lst, element):\n",
        "    return [x for x in lst if x != element] + [x for x in lst if x == element]\n",
        "\n",
        "# Example usage:\n",
        "print(move_to_end([1, 3, 2, 4, 4, 1], 1))"
      ],
      "metadata": {
        "colab": {
          "base_uri": "https://localhost:8080/"
        },
        "id": "REo9U5bTsu69",
        "outputId": "c0ef4201-b171-4058-e6d0-2e1605cc055b"
      },
      "execution_count": 5,
      "outputs": [
        {
          "output_type": "stream",
          "name": "stdout",
          "text": [
            "[3, 2, 4, 4, 1, 1]\n"
          ]
        }
      ]
    }
  ]
}