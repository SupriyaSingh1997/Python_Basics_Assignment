{
  "nbformat": 4,
  "nbformat_minor": 0,
  "metadata": {
    "colab": {
      "provenance": [],
      "authorship_tag": "ABX9TyOtrSrijCg3R096D/C/kmqq",
      "include_colab_link": true
    },
    "kernelspec": {
      "name": "python3",
      "display_name": "Python 3"
    },
    "language_info": {
      "name": "python"
    }
  },
  "cells": [
    {
      "cell_type": "markdown",
      "metadata": {
        "id": "view-in-github",
        "colab_type": "text"
      },
      "source": [
        "<a href=\"https://colab.research.google.com/github/SupriyaSingh1997/Python_Basics_Assignment/blob/main/Programming_Assignment_9.ipynb\" target=\"_parent\"><img src=\"https://colab.research.google.com/assets/colab-badge.svg\" alt=\"Open In Colab\"/></a>"
      ]
    },
    {
      "cell_type": "code",
      "execution_count": 10,
      "metadata": {
        "colab": {
          "base_uri": "https://localhost:8080/"
        },
        "id": "tnm8K4CK98Tw",
        "outputId": "144b62dc-be28-4158-b012-c763431c7c04"
      },
      "outputs": [
        {
          "output_type": "stream",
          "name": "stdout",
          "text": [
            "Enter a number: 22\n",
            "22 is not a Disarium number.\n"
          ]
        }
      ],
      "source": [
        "#1\n",
        "def is_disarium(num):\n",
        "    num_str = str(num)\n",
        "    length = len(num_str)\n",
        "    sum_of_digits = 0\n",
        "\n",
        "    for i in range(length):\n",
        "        sum_of_digits += int(num_str[i]) ** (i+1)\n",
        "\n",
        "    return num == sum_of_digits\n",
        "\n",
        "# Test the function\n",
        "number = int(input(\"Enter a number: \"))\n",
        "if is_disarium(number):\n",
        "    print(number, \"is a Disarium number.\")\n",
        "else:\n",
        "    print(number, \"is not a Disarium number.\")\n",
        "\n"
      ]
    },
    {
      "cell_type": "code",
      "source": [
        "#2\n",
        "def is_disarium(num):\n",
        "    num_str = str(num)\n",
        "    length = len(num_str)\n",
        "    sum_of_digits = 0\n",
        "\n",
        "    for i in range(length):\n",
        "        sum_of_digits += int(num_str[i]) ** (i+1)\n",
        "\n",
        "    return num == sum_of_digits\n",
        "\n",
        "disarium_numbers = []\n",
        "for num in range(1, 101):\n",
        "    if is_disarium(num):\n",
        "        disarium_numbers.append(num)\n",
        "\n",
        "print(\"Disarium numbers between 1 and 100:\")\n",
        "print(disarium_numbers)\n"
      ],
      "metadata": {
        "colab": {
          "base_uri": "https://localhost:8080/"
        },
        "id": "K6jfQSy3-IuV",
        "outputId": "24772aa1-f0ec-4e48-9a45-4c79960d5e13"
      },
      "execution_count": 3,
      "outputs": [
        {
          "output_type": "stream",
          "name": "stdout",
          "text": [
            "Disarium numbers between 1 and 100:\n",
            "[1, 2, 3, 4, 5, 6, 7, 8, 9, 89]\n"
          ]
        }
      ]
    },
    {
      "cell_type": "code",
      "source": [
        "#3\n",
        "def is_happy_number(num):\n",
        "    visited = set()\n",
        "\n",
        "    while num != 1:\n",
        "        num_str = str(num)\n",
        "        num = sum(int(digit) ** 2 for digit in num_str)\n",
        "\n",
        "        if num in visited:\n",
        "            return False\n",
        "\n",
        "        visited.add(num)\n",
        "\n",
        "    return True\n",
        "\n",
        "# Test the function\n",
        "number = int(input(\"Enter a number: \"))\n",
        "if is_happy_number(number):\n",
        "    print(number, \"is a Happy number.\")\n",
        "else:\n",
        "    print(number, \"is not a Happy number.\")\n",
        "\n"
      ],
      "metadata": {
        "colab": {
          "base_uri": "https://localhost:8080/"
        },
        "id": "dkrg_JvK-K5L",
        "outputId": "0b5445ee-afee-483e-d4f1-8056454bc161"
      },
      "execution_count": 9,
      "outputs": [
        {
          "output_type": "stream",
          "name": "stdout",
          "text": [
            "Enter a number: 10\n",
            "10 is a Happy number.\n"
          ]
        }
      ]
    },
    {
      "cell_type": "code",
      "source": [
        "#4\n",
        "def is_happy_number(num):\n",
        "    visited = set()\n",
        "\n",
        "    while num != 1:\n",
        "        num_str = str(num)\n",
        "        num = sum(int(digit) ** 2 for digit in num_str)\n",
        "\n",
        "        if num in visited:\n",
        "            return False\n",
        "\n",
        "        visited.add(num)\n",
        "\n",
        "    return True\n",
        "\n",
        "happy_numbers = []\n",
        "for num in range(1, 101):\n",
        "    if is_happy_number(num):\n",
        "        happy_numbers.append(num)\n",
        "\n",
        "print(\"Happy numbers between 1 and 100:\")\n",
        "print(happy_numbers)\n"
      ],
      "metadata": {
        "colab": {
          "base_uri": "https://localhost:8080/"
        },
        "id": "q4w9Sh0C-UbT",
        "outputId": "1baa2464-f220-4c00-e25f-e4cc13bdab90"
      },
      "execution_count": 5,
      "outputs": [
        {
          "output_type": "stream",
          "name": "stdout",
          "text": [
            "Happy numbers between 1 and 100:\n",
            "[1, 7, 10, 13, 19, 23, 28, 31, 32, 44, 49, 68, 70, 79, 82, 86, 91, 94, 97, 100]\n"
          ]
        }
      ]
    },
    {
      "cell_type": "code",
      "source": [
        "#5\n",
        "def is_harshad_number(num):\n",
        "    sum_of_digits = sum(int(digit) for digit in str(num))\n",
        "    return num % sum_of_digits == 0\n",
        "\n",
        "# Test the function\n",
        "number = int(input(\"Enter a number: \"))\n",
        "if is_harshad_number(number):\n",
        "    print(number, \"is a Harshad number.\")\n",
        "else:\n",
        "    print(number, \"is not a Harshad number.\")\n"
      ],
      "metadata": {
        "colab": {
          "base_uri": "https://localhost:8080/"
        },
        "id": "L-UwayBg-Z6L",
        "outputId": "7d4c83d2-f288-4f46-cd11-e96874066e6b"
      },
      "execution_count": 8,
      "outputs": [
        {
          "output_type": "stream",
          "name": "stdout",
          "text": [
            "Enter a number: 24\n",
            "24 is a Harshad number.\n"
          ]
        }
      ]
    },
    {
      "cell_type": "code",
      "source": [
        "#6\n",
        "def is_pronic_number(num):\n",
        "    for i in range(1, num):\n",
        "        if i * (i + 1) == num:\n",
        "            return True\n",
        "    return False\n",
        "\n",
        "pronic_numbers = []\n",
        "for num in range(1, 101):\n",
        "    if is_pronic_number(num):\n",
        "        pronic_numbers.append(num)\n",
        "\n",
        "print(\"Pronic numbers between 1 and 100:\")\n",
        "print(pronic_numbers)\n"
      ],
      "metadata": {
        "colab": {
          "base_uri": "https://localhost:8080/"
        },
        "id": "N9X6iLsi-b8F",
        "outputId": "c4e6e1d2-a10d-4464-a972-6bf82e75669c"
      },
      "execution_count": 7,
      "outputs": [
        {
          "output_type": "stream",
          "name": "stdout",
          "text": [
            "Pronic numbers between 1 and 100:\n",
            "[2, 6, 12, 20, 30, 42, 56, 72, 90]\n"
          ]
        }
      ]
    }
  ]
}