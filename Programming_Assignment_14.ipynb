{
  "nbformat": 4,
  "nbformat_minor": 0,
  "metadata": {
    "colab": {
      "provenance": [],
      "authorship_tag": "ABX9TyOUip7x7ANnxf0v8kq/66BB",
      "include_colab_link": true
    },
    "kernelspec": {
      "name": "python3",
      "display_name": "Python 3"
    },
    "language_info": {
      "name": "python"
    }
  },
  "cells": [
    {
      "cell_type": "markdown",
      "metadata": {
        "id": "view-in-github",
        "colab_type": "text"
      },
      "source": [
        "<a href=\"https://colab.research.google.com/github/SupriyaSingh1997/Python_Basics_Assignment/blob/main/Programming_Assignment_14.ipynb\" target=\"_parent\"><img src=\"https://colab.research.google.com/assets/colab-badge.svg\" alt=\"Open In Colab\"/></a>"
      ]
    },
    {
      "cell_type": "code",
      "execution_count": 1,
      "metadata": {
        "colab": {
          "base_uri": "https://localhost:8080/"
        },
        "id": "AdkvtO683fOS",
        "outputId": "dea87de9-6cb4-4317-a04f-ecba049753a5"
      },
      "outputs": [
        {
          "output_type": "stream",
          "name": "stdout",
          "text": [
            "0\n",
            "7\n",
            "14\n",
            "21\n",
            "28\n",
            "35\n",
            "42\n",
            "49\n"
          ]
        }
      ],
      "source": [
        "#1\n",
        "class DivisibleBySevenGenerator:\n",
        "    def __init__(self, n):\n",
        "        self.n = n\n",
        "\n",
        "    def divisible_by_seven(self):\n",
        "        for i in range(self.n + 1):\n",
        "            if i % 7 == 0:\n",
        "                yield i\n",
        "\n",
        "# Example usage\n",
        "generator = DivisibleBySevenGenerator(50)\n",
        "for num in generator.divisible_by_seven():\n",
        "    print(num)\n"
      ]
    },
    {
      "cell_type": "code",
      "source": [
        "#2\n",
        "def word_frequency(input_string):\n",
        "    words = input_string.split()\n",
        "    frequency = {}\n",
        "\n",
        "    for word in words:\n",
        "        frequency[word] = frequency.get(word, 0) + 1\n",
        "\n",
        "    sorted_words = sorted(frequency.keys())\n",
        "\n",
        "    for word in sorted_words:\n",
        "        print(f\"{word}:{frequency[word]}\")\n",
        "\n",
        "# Example usage\n",
        "input_string = \"New to Python or choosing between Python 2 and Python 3? Read Python 2 or Python 3.\"\n",
        "word_frequency(input_string)\n"
      ],
      "metadata": {
        "colab": {
          "base_uri": "https://localhost:8080/"
        },
        "id": "4BAD7i_b4bt_",
        "outputId": "791f84f6-4c7f-4c52-958f-e341ca02e94b"
      },
      "execution_count": 2,
      "outputs": [
        {
          "output_type": "stream",
          "name": "stdout",
          "text": [
            "2:2\n",
            "3.:1\n",
            "3?:1\n",
            "New:1\n",
            "Python:5\n",
            "Read:1\n",
            "and:1\n",
            "between:1\n",
            "choosing:1\n",
            "or:2\n",
            "to:1\n"
          ]
        }
      ]
    },
    {
      "cell_type": "code",
      "source": [
        "#3\n",
        "class Person:\n",
        "    def getGender(self):\n",
        "        pass\n",
        "\n",
        "class Male(Person):\n",
        "    def getGender(self):\n",
        "        print(\"Male\")\n",
        "\n",
        "class Female(Person):\n",
        "    def getGender(self):\n",
        "        print(\"Female\")\n",
        "\n",
        "# Example usage\n",
        "person1 = Male()\n",
        "person1.getGender()  # Output: Male\n"
      ],
      "metadata": {
        "colab": {
          "base_uri": "https://localhost:8080/"
        },
        "id": "BSmrcv2J4ei8",
        "outputId": "fca069b6-a925-4a6b-bee6-007523644eed"
      },
      "execution_count": 3,
      "outputs": [
        {
          "output_type": "stream",
          "name": "stdout",
          "text": [
            "Male\n"
          ]
        }
      ]
    },
    {
      "cell_type": "code",
      "source": [
        "#4\n",
        "subjects = [\"I\", \"You\"]\n",
        "verbs = [\"Play\", \"Love\"]\n",
        "objects = [\"Hockey\", \"Football\"]\n",
        "\n",
        "sentences = []\n",
        "\n",
        "for subject in subjects:\n",
        "    for verb in verbs:\n",
        "        for obj in objects:\n",
        "            sentence = f\"{subject} {verb} {obj}.\"\n",
        "            sentences.append(sentence)\n",
        "\n",
        "# Print all generated sentences\n",
        "for sentence in sentences:\n",
        "    print(sentence)\n"
      ],
      "metadata": {
        "colab": {
          "base_uri": "https://localhost:8080/"
        },
        "id": "FF1Dv54z4iTC",
        "outputId": "3c574098-1337-4092-8aa4-6933710cb676"
      },
      "execution_count": 4,
      "outputs": [
        {
          "output_type": "stream",
          "name": "stdout",
          "text": [
            "I Play Hockey.\n",
            "I Play Football.\n",
            "I Love Hockey.\n",
            "I Love Football.\n",
            "You Play Hockey.\n",
            "You Play Football.\n",
            "You Love Hockey.\n",
            "You Love Football.\n"
          ]
        }
      ]
    },
    {
      "cell_type": "code",
      "source": [
        "#5\n",
        "import zlib\n",
        "\n",
        "def compress_string(input_string):\n",
        "    compressed_data = zlib.compress(input_string.encode('utf-8'))\n",
        "    return compressed_data\n",
        "\n",
        "def decompress_string(compressed_data):\n",
        "    decompressed_string = zlib.decompress(compressed_data).decode('utf-8')\n",
        "    return decompressed_string\n",
        "\n",
        "# Example usage\n",
        "input_string = \"hello world!hello world!hello world!hello world!\"\n",
        "\n",
        "compressed_data = compress_string(input_string)\n",
        "print(f\"Compressed data: {compressed_data}\")\n",
        "\n",
        "decompressed_string = decompress_string(compressed_data)\n",
        "print(f\"Decompressed string: {decompressed_string}\")\n"
      ],
      "metadata": {
        "colab": {
          "base_uri": "https://localhost:8080/"
        },
        "id": "5537R5kZ4kvM",
        "outputId": "299cc90c-413d-40d9-f256-6dded73d9b4c"
      },
      "execution_count": 5,
      "outputs": [
        {
          "output_type": "stream",
          "name": "stdout",
          "text": [
            "Compressed data: b'x\\x9c\\xcbH\\xcd\\xc9\\xc9W(\\xcf/\\xcaIQ\\xcc \\x82\\r\\x00\\xbd[\\x11\\xf5'\n",
            "Decompressed string: hello world!hello world!hello world!hello world!\n"
          ]
        }
      ]
    },
    {
      "cell_type": "code",
      "source": [
        "#6\n",
        "def binary_search(arr, target):\n",
        "    left = 0\n",
        "    right = len(arr) - 1\n",
        "\n",
        "    while left <= right:\n",
        "        mid = (left + right) // 2\n",
        "\n",
        "        if arr[mid] == target:\n",
        "            return mid\n",
        "        elif arr[mid] < target:\n",
        "            left = mid + 1\n",
        "        else:\n",
        "            right = mid - 1\n",
        "\n",
        "    return -1  # Element not found\n",
        "\n",
        "# Example usage\n",
        "sorted_list = [1, 3, 5, 7, 9, 11, 13, 15]\n",
        "target_element = 7\n",
        "\n",
        "result = binary_search(sorted_list, target_element)\n",
        "print(f\"Index of {target_element}: {result}\")\n"
      ],
      "metadata": {
        "colab": {
          "base_uri": "https://localhost:8080/"
        },
        "id": "T0RIvA604n7q",
        "outputId": "a67d9dc5-1401-447e-ba38-d604809d7c93"
      },
      "execution_count": 6,
      "outputs": [
        {
          "output_type": "stream",
          "name": "stdout",
          "text": [
            "Index of 7: 3\n"
          ]
        }
      ]
    }
  ]
}