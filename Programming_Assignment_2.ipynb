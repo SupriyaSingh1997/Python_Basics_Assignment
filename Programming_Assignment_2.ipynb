{
  "nbformat": 4,
  "nbformat_minor": 0,
  "metadata": {
    "colab": {
      "provenance": [],
      "authorship_tag": "ABX9TyNQfEG/vQjlMkiZxith2g9i",
      "include_colab_link": true
    },
    "kernelspec": {
      "name": "python3",
      "display_name": "Python 3"
    },
    "language_info": {
      "name": "python"
    }
  },
  "cells": [
    {
      "cell_type": "markdown",
      "metadata": {
        "id": "view-in-github",
        "colab_type": "text"
      },
      "source": [
        "<a href=\"https://colab.research.google.com/github/SupriyaSingh1997/Python_Basics_Assignment/blob/main/Programming_Assignment_2.ipynb\" target=\"_parent\"><img src=\"https://colab.research.google.com/assets/colab-badge.svg\" alt=\"Open In Colab\"/></a>"
      ]
    },
    {
      "cell_type": "code",
      "execution_count": 1,
      "metadata": {
        "colab": {
          "base_uri": "https://localhost:8080/"
        },
        "id": "Etp3g5jSEQ2E",
        "outputId": "9364856a-7bee-4ecd-a68d-fe3068881e86"
      },
      "outputs": [
        {
          "output_type": "stream",
          "name": "stdout",
          "text": [
            "Enter the distance in kilometers: 70\n",
            "Distance in miles:  43.49597\n"
          ]
        }
      ],
      "source": [
        "#1\n",
        "def km_to_miles(kilometers):\n",
        "    miles = kilometers * 0.621371\n",
        "    return miles\n",
        "\n",
        "kilometers = float(input(\"Enter the distance in kilometers: \"))\n",
        "miles = km_to_miles(kilometers)\n",
        "print(\"Distance in miles: \", miles)\n"
      ]
    },
    {
      "cell_type": "code",
      "source": [
        "#2\n",
        "def celsius_to_fahrenheit(celsius):\n",
        "    fahrenheit = (celsius * 9/5) + 32\n",
        "    return fahrenheit\n",
        "\n",
        "celsius = float(input(\"Enter the temperature in Celsius: \"))\n",
        "fahrenheit = celsius_to_fahrenheit(celsius)\n",
        "print(\"Temperature in Fahrenheit: \", fahrenheit)\n"
      ],
      "metadata": {
        "colab": {
          "base_uri": "https://localhost:8080/"
        },
        "id": "eU6OL7oEERvq",
        "outputId": "0156bb9b-8433-465c-ff5f-d5ae2cc48355"
      },
      "execution_count": 2,
      "outputs": [
        {
          "output_type": "stream",
          "name": "stdout",
          "text": [
            "Enter the temperature in Celsius: 45\n",
            "Temperature in Fahrenheit:  113.0\n"
          ]
        }
      ]
    },
    {
      "cell_type": "code",
      "source": [
        "#3\n",
        "import calendar\n",
        "\n",
        "year = int(input(\"Enter the year: \"))\n",
        "month = int(input(\"Enter the month: \"))\n",
        "\n",
        "print(calendar.month(year, month))\n"
      ],
      "metadata": {
        "colab": {
          "base_uri": "https://localhost:8080/"
        },
        "id": "gCQauBoiEXDL",
        "outputId": "f0adba35-179c-4884-c808-e10a5e3c881b"
      },
      "execution_count": 3,
      "outputs": [
        {
          "output_type": "stream",
          "name": "stdout",
          "text": [
            "Enter the year: 1997\n",
            "Enter the month: 8\n",
            "    August 1997\n",
            "Mo Tu We Th Fr Sa Su\n",
            "             1  2  3\n",
            " 4  5  6  7  8  9 10\n",
            "11 12 13 14 15 16 17\n",
            "18 19 20 21 22 23 24\n",
            "25 26 27 28 29 30 31\n",
            "\n"
          ]
        }
      ]
    },
    {
      "cell_type": "code",
      "source": [
        "#4\n",
        "import cmath\n",
        "\n",
        "def solve_quadratic(a, b, c):\n",
        "    # Calculate the discriminant\n",
        "    discriminant = (b**2) - (4*a*c)\n",
        "\n",
        "    # Find two solutions\n",
        "    solution1 = (-b + cmath.sqrt(discriminant)) / (2*a)\n",
        "    solution2 = (-b - cmath.sqrt(discriminant)) / (2*a)\n",
        "\n",
        "    return solution1, solution2\n",
        "\n",
        "a = float(input(\"Enter the coefficient of x^2: \"))\n",
        "b = float(input(\"Enter the coefficient of x: \"))\n",
        "c = float(input(\"Enter the constant term: \"))\n",
        "\n",
        "solution1, solution2 = solve_quadratic(a, b, c)\n",
        "print(\"The solutions are: {0} and {1}\".format(solution1, solution2))\n"
      ],
      "metadata": {
        "colab": {
          "base_uri": "https://localhost:8080/"
        },
        "id": "ey3EL3fiEZE5",
        "outputId": "79a5d25f-635b-41a5-a5d7-068a65f23e1e"
      },
      "execution_count": 6,
      "outputs": [
        {
          "output_type": "stream",
          "name": "stdout",
          "text": [
            "Enter the coefficient of x^2: 4\n",
            "Enter the coefficient of x: 2\n",
            "Enter the constant term: 5\n",
            "The solutions are: (-0.25+1.0897247358851685j) and (-0.25-1.0897247358851685j)\n"
          ]
        }
      ]
    },
    {
      "cell_type": "code",
      "source": [
        "#5\n",
        "a = int(input(\"Enter the value of a: \"))\n",
        "b = int(input(\"Enter the value of b: \"))\n",
        "\n",
        "print(\"Before swapping:\")\n",
        "print(\"a =\", a)\n",
        "print(\"b =\", b)\n",
        "\n",
        "a, b = b, a\n",
        "\n",
        "print(\"After swapping:\")\n",
        "print(\"a =\", a)\n",
        "print(\"b =\", b)\n"
      ],
      "metadata": {
        "colab": {
          "base_uri": "https://localhost:8080/"
        },
        "id": "6VniP6zlEkSn",
        "outputId": "27c168f1-8790-4c39-f1d2-236a9a44c19d"
      },
      "execution_count": 5,
      "outputs": [
        {
          "output_type": "stream",
          "name": "stdout",
          "text": [
            "Enter the value of a: 4\n",
            "Enter the value of b: 2\n",
            "Before swapping:\n",
            "a = 4\n",
            "b = 2\n",
            "After swapping:\n",
            "a = 2\n",
            "b = 4\n"
          ]
        }
      ]
    }
  ]
}