{
  "nbformat": 4,
  "nbformat_minor": 0,
  "metadata": {
    "colab": {
      "provenance": [],
      "authorship_tag": "ABX9TyOgBdFevLhe9F8nMRSCbX0s",
      "include_colab_link": true
    },
    "kernelspec": {
      "name": "python3",
      "display_name": "Python 3"
    },
    "language_info": {
      "name": "python"
    }
  },
  "cells": [
    {
      "cell_type": "markdown",
      "metadata": {
        "id": "view-in-github",
        "colab_type": "text"
      },
      "source": [
        "<a href=\"https://colab.research.google.com/github/SupriyaSingh1997/Python_Basics_Assignment/blob/main/Programming_Assignment_11.ipynb\" target=\"_parent\"><img src=\"https://colab.research.google.com/assets/colab-badge.svg\" alt=\"Open In Colab\"/></a>"
      ]
    },
    {
      "cell_type": "code",
      "execution_count": 1,
      "metadata": {
        "colab": {
          "base_uri": "https://localhost:8080/"
        },
        "id": "KnQ3ZU9I8fQv",
        "outputId": "e4081e49-2a0d-4df1-a0f5-f556a6983d16"
      },
      "outputs": [
        {
          "output_type": "stream",
          "name": "stdout",
          "text": [
            "['sample', 'program']\n"
          ]
        }
      ],
      "source": [
        "#1\n",
        "def find_words_greater_than_k(text, k):\n",
        "    words = text.split()\n",
        "    result = []\n",
        "    for word in words:\n",
        "        if len(word) > k:\n",
        "            result.append(word)\n",
        "    return result\n",
        "\n",
        "# Example usage\n",
        "text = \"This is a sample text to test the program\"\n",
        "k = 4\n",
        "words_greater_than_k = find_words_greater_than_k(text, k)\n",
        "print(words_greater_than_k)\n"
      ]
    },
    {
      "cell_type": "code",
      "source": [
        "#2\n",
        "def remove_ith_character(string, i):\n",
        "    if i < 0 or i >= len(string):\n",
        "        return string\n",
        "    return string[:i] + string[i+1:]\n",
        "\n",
        "# Example usage\n",
        "string = \"Hello, World!\"\n",
        "i = 7\n",
        "updated_string = remove_ith_character(string, i)\n",
        "print(updated_string)\n"
      ],
      "metadata": {
        "colab": {
          "base_uri": "https://localhost:8080/"
        },
        "id": "1ljmNx5v8gfq",
        "outputId": "a3b3815d-2fe3-4f22-b068-9e53d5a350f5"
      },
      "execution_count": 2,
      "outputs": [
        {
          "output_type": "stream",
          "name": "stdout",
          "text": [
            "Hello, orld!\n"
          ]
        }
      ]
    },
    {
      "cell_type": "code",
      "source": [
        "#3\n",
        "def split_and_join_string(string):\n",
        "    words = string.split()\n",
        "    joined_string = \"-\".join(words)\n",
        "    return joined_string\n",
        "\n",
        "# Example usage\n",
        "string = \"This is a sample string\"\n",
        "joined_string = split_and_join_string(string)\n",
        "print(joined_string)\n"
      ],
      "metadata": {
        "colab": {
          "base_uri": "https://localhost:8080/"
        },
        "id": "evsQ0VR88jqa",
        "outputId": "70a43b77-67c5-4c1b-f4d5-29f1d46863ee"
      },
      "execution_count": 3,
      "outputs": [
        {
          "output_type": "stream",
          "name": "stdout",
          "text": [
            "This-is-a-sample-string\n"
          ]
        }
      ]
    },
    {
      "cell_type": "code",
      "source": [
        "#4\n",
        "def is_binary_string(string):\n",
        "    for char in string:\n",
        "        if char != '0' and char != '1':\n",
        "            return False\n",
        "    return True\n",
        "\n",
        "# Example usage\n",
        "string = \"101010\"\n",
        "is_binary = is_binary_string(string)\n",
        "print(is_binary)\n"
      ],
      "metadata": {
        "colab": {
          "base_uri": "https://localhost:8080/"
        },
        "id": "kIMeoWWS8m1E",
        "outputId": "1ab58112-5745-4eb3-f79b-cc951289450c"
      },
      "execution_count": 4,
      "outputs": [
        {
          "output_type": "stream",
          "name": "stdout",
          "text": [
            "True\n"
          ]
        }
      ]
    },
    {
      "cell_type": "code",
      "source": [
        "#5\n",
        "def find_uncommon_words(string1, string2):\n",
        "    set1 = set(string1.split())\n",
        "    set2 = set(string2.split())\n",
        "    uncommon_words = set1.symmetric_difference(set2)\n",
        "    return uncommon_words\n",
        "\n",
        "# Example usage\n",
        "string1 = \"This is a sample text\"\n",
        "string2 = \"This is another text\"\n",
        "uncommon = find_uncommon_words(string1, string2)\n",
        "print(uncommon)\n"
      ],
      "metadata": {
        "colab": {
          "base_uri": "https://localhost:8080/"
        },
        "id": "dVStAwi08pMd",
        "outputId": "cac266ab-85c8-4243-df7c-d490ae320146"
      },
      "execution_count": 5,
      "outputs": [
        {
          "output_type": "stream",
          "name": "stdout",
          "text": [
            "{'another', 'sample', 'a'}\n"
          ]
        }
      ]
    },
    {
      "cell_type": "code",
      "source": [
        "#6\n",
        "def find_duplicate_characters(string):\n",
        "    duplicates = []\n",
        "    for char in string:\n",
        "        if string.count(char) > 1 and char not in duplicates:\n",
        "            duplicates.append(char)\n",
        "    return duplicates\n",
        "\n",
        "# Example usage\n",
        "string = \"Hello, World!\"\n",
        "duplicate_chars = find_duplicate_characters(string)\n",
        "print(duplicate_chars)\n"
      ],
      "metadata": {
        "colab": {
          "base_uri": "https://localhost:8080/"
        },
        "id": "fZPbtvBD8rTZ",
        "outputId": "55eb9b70-0b2d-4663-d261-1cdb81a8f10f"
      },
      "execution_count": 6,
      "outputs": [
        {
          "output_type": "stream",
          "name": "stdout",
          "text": [
            "['l', 'o']\n"
          ]
        }
      ]
    },
    {
      "cell_type": "code",
      "source": [
        "#7\n",
        "import re\n",
        "\n",
        "def has_special_characters(string):\n",
        "    special_chars = re.compile('[@_!#$%^&*()<>?/\\|}{~:]')\n",
        "    if special_chars.search(string) is None:\n",
        "        return False\n",
        "    return True\n",
        "\n",
        "# Example usage\n",
        "string = \"Hello, World!\"\n",
        "has_special = has_special_characters(string)\n",
        "print(has_special)\n"
      ],
      "metadata": {
        "colab": {
          "base_uri": "https://localhost:8080/"
        },
        "id": "-zvKZO7N8tkl",
        "outputId": "fd0531e6-de07-4c66-cdab-d7aec7a91261"
      },
      "execution_count": 7,
      "outputs": [
        {
          "output_type": "stream",
          "name": "stdout",
          "text": [
            "True\n"
          ]
        }
      ]
    }
  ]
}