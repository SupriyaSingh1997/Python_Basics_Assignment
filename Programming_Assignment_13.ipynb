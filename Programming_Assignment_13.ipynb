{
  "nbformat": 4,
  "nbformat_minor": 0,
  "metadata": {
    "colab": {
      "provenance": [],
      "authorship_tag": "ABX9TyPD32avGNgAPGsQg2FzWLOT",
      "include_colab_link": true
    },
    "kernelspec": {
      "name": "python3",
      "display_name": "Python 3"
    },
    "language_info": {
      "name": "python"
    }
  },
  "cells": [
    {
      "cell_type": "markdown",
      "metadata": {
        "id": "view-in-github",
        "colab_type": "text"
      },
      "source": [
        "<a href=\"https://colab.research.google.com/github/SupriyaSingh1997/Python_Basics_Assignment/blob/main/Programming_Assignment_13.ipynb\" target=\"_parent\"><img src=\"https://colab.research.google.com/assets/colab-badge.svg\" alt=\"Open In Colab\"/></a>"
      ]
    },
    {
      "cell_type": "code",
      "execution_count": 1,
      "metadata": {
        "colab": {
          "base_uri": "https://localhost:8080/"
        },
        "id": "OYZ-gpQE5n1d",
        "outputId": "d73a0bbd-8a37-44a5-a83f-2026d94b8182"
      },
      "outputs": [
        {
          "output_type": "stream",
          "name": "stdout",
          "text": [
            "Enter comma-separated sequence of values for D: 11,23,14\n",
            "Output: 6,9,7\n"
          ]
        }
      ],
      "source": [
        "#1\n",
        "import math\n",
        "\n",
        "def calculate_values(input_sequence):\n",
        "    C = 50\n",
        "    H = 30\n",
        "    values = input_sequence.split(',')\n",
        "    results = []\n",
        "\n",
        "    for value in values:\n",
        "        D = int(value)\n",
        "        Q = math.sqrt((2 * C * D) / H)\n",
        "        results.append(str(round(Q)))\n",
        "\n",
        "    output = ','.join(results)\n",
        "    return output\n",
        "\n",
        "# Example usage\n",
        "input_sequence = input(\"Enter comma-separated sequence of values for D: \")\n",
        "output = calculate_values(input_sequence)\n",
        "print(\"Output:\", output)\n"
      ]
    },
    {
      "cell_type": "code",
      "source": [
        "#2\n",
        "def generate_2d_array(X, Y):\n",
        "    array = []\n",
        "    for i in range(X):\n",
        "        row = []\n",
        "        for j in range(Y):\n",
        "            row.append(i * j)\n",
        "        array.append(row)\n",
        "    return array\n",
        "\n",
        "# Example usage\n",
        "input_str = input(\"Enter two digits (comma-separated): \")\n",
        "X, Y = map(int, input_str.split(','))\n",
        "output = generate_2d_array(X, Y)\n",
        "print(\"Output:\", output)\n"
      ],
      "metadata": {
        "colab": {
          "base_uri": "https://localhost:8080/"
        },
        "id": "yhiF6b0V5p6t",
        "outputId": "d9b206df-ec01-42af-f9c9-c67960e5a07b"
      },
      "execution_count": 4,
      "outputs": [
        {
          "output_type": "stream",
          "name": "stdout",
          "text": [
            "Enter two digits (comma-separated): 5,6\n",
            "Output: [[0, 0, 0, 0, 0, 0], [0, 1, 2, 3, 4, 5], [0, 2, 4, 6, 8, 10], [0, 3, 6, 9, 12, 15], [0, 4, 8, 12, 16, 20]]\n"
          ]
        }
      ]
    },
    {
      "cell_type": "code",
      "source": [
        "#3\n",
        "def sort_words(input_sequence):\n",
        "    words = input_sequence.split(',')\n",
        "    sorted_words = sorted(words)\n",
        "    output = ','.join(sorted_words)\n",
        "    return output\n",
        "\n",
        "# Example usage\n",
        "input_sequence = input(\"Enter comma-separated sequence of words: \")\n",
        "output = sort_words(input_sequence)\n",
        "print(\"Output:\", output)\n"
      ],
      "metadata": {
        "colab": {
          "base_uri": "https://localhost:8080/"
        },
        "id": "EjTznljP5tL_",
        "outputId": "bf93641b-ab27-4d1a-aaf6-f1be6da15ae2"
      },
      "execution_count": 5,
      "outputs": [
        {
          "output_type": "stream",
          "name": "stdout",
          "text": [
            "Enter comma-separated sequence of words: The, lion,is,king,but tiger,is,the,surviver\n",
            "Output:  lion,The,but tiger,is,is,king,surviver,the\n"
          ]
        }
      ]
    },
    {
      "cell_type": "code",
      "source": [
        "#5\n",
        "def count_letters_digits(sentence):\n",
        "    letters = 0\n",
        "    digits = 0\n",
        "\n",
        "    for char in sentence:\n",
        "        if char.isalpha():\n",
        "            letters += 1\n",
        "        elif char.isdigit():\n",
        "            digits += 1\n",
        "\n",
        "    return letters, digits\n",
        "\n",
        "# Example usage\n",
        "input_sentence = input(\"Enter a sentence: \")\n",
        "letter_count, digit_count = count_letters_digits(input_sentence)\n",
        "print(\"LETTERS\", letter_count)\n",
        "print(\"DIGITS\", digit_count)\n"
      ],
      "metadata": {
        "colab": {
          "base_uri": "https://localhost:8080/"
        },
        "id": "olQl1x8C5-Ck",
        "outputId": "206a619f-45cb-42cf-9e9e-5d33a5837fd5"
      },
      "execution_count": 7,
      "outputs": [
        {
          "output_type": "stream",
          "name": "stdout",
          "text": [
            "Enter a sentence: treking the possible\n",
            "LETTERS 18\n",
            "DIGITS 0\n"
          ]
        }
      ]
    },
    {
      "cell_type": "code",
      "source": [
        "#6\n",
        "import re\n",
        "\n",
        "def check_password_validity(password):\n",
        "    if len(password) < 6 or len(password) > 12:\n",
        "        return False\n",
        "    if not re.search(\"[a-z]\", password):\n",
        "        return False\n",
        "    if not re.search(\"[A-Z]\", password):\n",
        "        return False\n",
        "    if not re.search(\"[0-9]\", password):\n",
        "        return False\n",
        "    if not re.search(\"[$#@]\", password):\n",
        "        return False\n",
        "    return True\n",
        "\n",
        "# Example usage\n",
        "input_passwords = input(\"Enter comma-separated passwords: \")\n",
        "passwords = input_passwords.split(',')\n",
        "valid_passwords = []\n",
        "\n",
        "for password in passwords:\n",
        "    if check_password_validity(password):\n",
        "        valid_passwords.append(password)\n",
        "\n",
        "output = ','.join(valid_passwords)\n",
        "print(\"Output:\", output)\n"
      ],
      "metadata": {
        "colab": {
          "base_uri": "https://localhost:8080/"
        },
        "id": "5nSBPUEu6Mxc",
        "outputId": "bd801d90-3c28-4217-bafd-534730eef2cc"
      },
      "execution_count": 10,
      "outputs": [
        {
          "output_type": "stream",
          "name": "stdout",
          "text": [
            "Enter comma-separated passwords: hjsdcb,hegfv,sdhjs\n",
            "Output: \n"
          ]
        }
      ]
    }
  ]
}