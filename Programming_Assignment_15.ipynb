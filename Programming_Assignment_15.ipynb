{
  "nbformat": 4,
  "nbformat_minor": 0,
  "metadata": {
    "colab": {
      "provenance": [],
      "authorship_tag": "ABX9TyOTC54XBEdFxySnhd0Vfs1v",
      "include_colab_link": true
    },
    "kernelspec": {
      "name": "python3",
      "display_name": "Python 3"
    },
    "language_info": {
      "name": "python"
    }
  },
  "cells": [
    {
      "cell_type": "markdown",
      "metadata": {
        "id": "view-in-github",
        "colab_type": "text"
      },
      "source": [
        "<a href=\"https://colab.research.google.com/github/SupriyaSingh1997/Python_Basics_Assignment/blob/main/Programming_Assignment_15.ipynb\" target=\"_parent\"><img src=\"https://colab.research.google.com/assets/colab-badge.svg\" alt=\"Open In Colab\"/></a>"
      ]
    },
    {
      "cell_type": "code",
      "execution_count": 1,
      "metadata": {
        "colab": {
          "base_uri": "https://localhost:8080/"
        },
        "id": "OfULvKb_vlPi",
        "outputId": "be00df07-85c3-4f2f-ee46-46d89b127e7d"
      },
      "outputs": [
        {
          "output_type": "stream",
          "name": "stdout",
          "text": [
            "Enter a number: 56\n",
            "0,35\n"
          ]
        }
      ],
      "source": [
        "\"\"\"Question 1:\n",
        "Please write a program using generator to print the numbers which can be divisible by 5 and\n",
        "7 between 0 and n in comma separated form while n is input by console.\n",
        "Example:\n",
        "If the following n is given as input to the program:\n",
        "100\n",
        "Then, the output of the program should be:\n",
        "0,35,70\"\"\"\n",
        "\n",
        "def divisible_by_5_and_7(n):\n",
        "    for num in range(n + 1):\n",
        "        if num % 5 == 0 and num % 7 == 0:\n",
        "            yield str(num)\n",
        "\n",
        "# Get input from the user\n",
        "n = int(input(\"Enter a number: \"))\n",
        "\n",
        "# Generate and print the comma-separated numbers\n",
        "result = \",\".join(divisible_by_5_and_7(n))\n",
        "print(result)\n"
      ]
    },
    {
      "cell_type": "code",
      "source": [
        "\"\"\"Question 2:\n",
        "Please write a program using generator to print the even numbers between 0 and n in comma\n",
        "separated form while n is input by console.\n",
        "Example:\n",
        "If the following n is given as input to the program:\n",
        "10\n",
        "Then, the output of the program should be:\n",
        "0,2,4,6,8,10\"\"\"\n",
        "\n",
        "def even_numbers(n):\n",
        "    for num in range(n + 1):\n",
        "        if num % 2 == 0:\n",
        "            yield str(num)\n",
        "\n",
        "# Get input from the user\n",
        "n = int(input(\"Enter a number: \"))\n",
        "\n",
        "# Generate and print the comma-separated even numbers\n",
        "result = \",\".join(even_numbers(n))\n",
        "print(result)\n"
      ],
      "metadata": {
        "colab": {
          "base_uri": "https://localhost:8080/"
        },
        "id": "rddofKAGvocu",
        "outputId": "a193379c-d72d-4aab-c2bd-bade0868c7f9"
      },
      "execution_count": 3,
      "outputs": [
        {
          "output_type": "stream",
          "name": "stdout",
          "text": [
            "Enter a number: 12\n",
            "0,2,4,6,8,10,12\n"
          ]
        }
      ]
    },
    {
      "cell_type": "code",
      "source": [
        "\"\"\"Question 3:\n",
        "The Fibonacci Sequence is computed based on the following formula:\n",
        "f(n)=0 if n=0\n",
        "f(n)=1 if n=1\n",
        "f(n)=f(n-1)+f(n-2) if n&gt;1\n",
        "Please write a program using list comprehension to print the Fibonacci Sequence in comma\n",
        "separated form with a given n input by console.\n",
        "Example:\n",
        "If the following n is given as input to the program:\n",
        "7\n",
        "\n",
        "Then, the output of the program should be:\n",
        "0,1,1,2,3,5,8,13\"\"\"\n",
        "\n",
        "# Get input from the user\n",
        "n = int(input(\"Enter a number: \"))\n",
        "\n",
        "# Generate Fibonacci sequence using list comprehension\n",
        "fib_sequence = [0, 1]\n",
        "[fib_sequence.append(fib_sequence[-1] + fib_sequence[-2]) for _ in range(2, n+1)]\n",
        "\n",
        "# Convert the sequence to comma-separated string\n",
        "result = \",\".join(map(str, fib_sequence))\n",
        "print(result)\n",
        "\n"
      ],
      "metadata": {
        "colab": {
          "base_uri": "https://localhost:8080/"
        },
        "id": "YSJ840k9v3zX",
        "outputId": "a4ceede6-ae9f-4c0e-fccd-89a5e284495a"
      },
      "execution_count": 9,
      "outputs": [
        {
          "output_type": "stream",
          "name": "stdout",
          "text": [
            "Enter a number: 21\n",
            "0,1,1,2,3,5,8,13,21,34,55,89,144,233,377,610,987,1597,2584,4181,6765,10946\n"
          ]
        }
      ]
    },
    {
      "cell_type": "code",
      "source": [
        "\"\"\"Question 4:\n",
        "Assuming that we have some email addresses in the &quot;username@companyname.com&quot; format,\n",
        "please write program to print the user name of a given email address. Both user names and\n",
        "company names are composed of letters only.\n",
        "Example:\n",
        "If the following email address is given as input to the program:\n",
        "john@google.com\n",
        "Then, the output of the program should be:\n",
        "john\"\"\"\n",
        "\n",
        "# Get input from the user\n",
        "email = input(\"Enter an email address: \")\n",
        "\n",
        "# Extract the username\n",
        "username = email.split(\"@\")[0]\n",
        "\n",
        "# Print the username\n",
        "print(username)\n"
      ],
      "metadata": {
        "colab": {
          "base_uri": "https://localhost:8080/"
        },
        "id": "BgDYG5WkwBce",
        "outputId": "392f2a08-531b-4553-aca0-86e7b02a428f"
      },
      "execution_count": 5,
      "outputs": [
        {
          "output_type": "stream",
          "name": "stdout",
          "text": [
            "Enter an email address: supriya.singh@gmail.com\n",
            "supriya.singh\n"
          ]
        }
      ]
    },
    {
      "cell_type": "code",
      "source": [
        "\"\"\"Question 5:\n",
        "Define a class named Shape and its subclass Square. The Square class has an init function\n",
        "which takes a length as argument. Both classes have a area function which can print the area\n",
        "of the shape where Shape&#39;s area is 0 by default.\"\"\"\n",
        "\n",
        "\n",
        "class Shape:\n",
        "    def __init__(self):\n",
        "        self.area = 0\n",
        "\n",
        "    def calculate_area(self):\n",
        "        return self.area\n",
        "\n",
        "\n",
        "class Square(Shape):\n",
        "    def __init__(self, length):\n",
        "        super().__init__()\n",
        "        self.length = length\n",
        "        self.area = self.calculate_area()\n",
        "\n",
        "    def calculate_area(self):\n",
        "        return self.length ** 2\n",
        "\n",
        "\n",
        "# Create a Square object and calculate its area\n",
        "square = Square(5)\n",
        "print(\"Area of the square:\", square.calculate_area())"
      ],
      "metadata": {
        "colab": {
          "base_uri": "https://localhost:8080/"
        },
        "id": "L19dxfzLwMoT",
        "outputId": "ab495281-a451-4431-9f24-19cf26e4e30b"
      },
      "execution_count": 6,
      "outputs": [
        {
          "output_type": "stream",
          "name": "stdout",
          "text": [
            "Area of the square: 25\n"
          ]
        }
      ]
    }
  ]
}