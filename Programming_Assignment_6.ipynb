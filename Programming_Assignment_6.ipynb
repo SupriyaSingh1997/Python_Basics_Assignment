{
  "nbformat": 4,
  "nbformat_minor": 0,
  "metadata": {
    "colab": {
      "provenance": [],
      "authorship_tag": "ABX9TyO5joKjUzX1XDkPGcJK2OTy",
      "include_colab_link": true
    },
    "kernelspec": {
      "name": "python3",
      "display_name": "Python 3"
    },
    "language_info": {
      "name": "python"
    }
  },
  "cells": [
    {
      "cell_type": "markdown",
      "metadata": {
        "id": "view-in-github",
        "colab_type": "text"
      },
      "source": [
        "<a href=\"https://colab.research.google.com/github/SupriyaSingh1997/Python_Basics_Assignment/blob/main/Programming_Assignment_6.ipynb\" target=\"_parent\"><img src=\"https://colab.research.google.com/assets/colab-badge.svg\" alt=\"Open In Colab\"/></a>"
      ]
    },
    {
      "cell_type": "code",
      "execution_count": 1,
      "metadata": {
        "colab": {
          "base_uri": "https://localhost:8080/"
        },
        "id": "FYkdKDjIBIhk",
        "outputId": "c1be7111-dd1c-420a-c033-6ba40d25599d"
      },
      "outputs": [
        {
          "output_type": "stream",
          "name": "stdout",
          "text": [
            "Enter the number of terms: 2\n",
            "Fibonacci sequence:\n",
            "0\n",
            "1\n"
          ]
        }
      ],
      "source": [
        "#1\n",
        "def fibonacci(n):\n",
        "    if n <= 1:\n",
        "        return n\n",
        "    else:\n",
        "        return fibonacci(n - 1) + fibonacci(n - 2)\n",
        "\n",
        "nterms = int(input(\"Enter the number of terms: \"))\n",
        "\n",
        "if nterms <= 0:\n",
        "    print(\"Please enter a positive integer.\")\n",
        "else:\n",
        "    print(\"Fibonacci sequence:\")\n",
        "    for i in range(nterms):\n",
        "        print(fibonacci(i))\n"
      ]
    },
    {
      "cell_type": "code",
      "source": [
        "#2\n",
        "def factorial(n):\n",
        "    if n == 0:\n",
        "        return 1\n",
        "    else:\n",
        "        return n * factorial(n - 1)\n",
        "\n",
        "num = int(input(\"Enter a non-negative integer: \"))\n",
        "\n",
        "if num < 0:\n",
        "    print(\"Factorial is not defined for negative numbers.\")\n",
        "else:\n",
        "    print(\"Factorial of\", num, \"is\", factorial(num))\n"
      ],
      "metadata": {
        "colab": {
          "base_uri": "https://localhost:8080/"
        },
        "id": "40XNo6N-BJeM",
        "outputId": "56d55883-6fb6-470c-9368-bd22057686fa"
      },
      "execution_count": 2,
      "outputs": [
        {
          "output_type": "stream",
          "name": "stdout",
          "text": [
            "Enter a non-negative integer: 4\n",
            "Factorial of 4 is 24\n"
          ]
        }
      ]
    },
    {
      "cell_type": "code",
      "source": [
        "#3\n",
        "def calculate_bmi(weight, height):\n",
        "    bmi = weight / (height ** 2)\n",
        "    return bmi\n",
        "\n",
        "weight = float(input(\"Enter your weight in kilograms: \"))\n",
        "height = float(input(\"Enter your height in meters: \"))\n",
        "\n",
        "bmi = calculate_bmi(weight, height)\n",
        "print(\"Your BMI is\", round(bmi, 2))\n"
      ],
      "metadata": {
        "colab": {
          "base_uri": "https://localhost:8080/"
        },
        "id": "BqFZl--UBMuF",
        "outputId": "d6a58196-6582-4185-81f1-716d641306ae"
      },
      "execution_count": 3,
      "outputs": [
        {
          "output_type": "stream",
          "name": "stdout",
          "text": [
            "Enter your weight in kilograms: 54\n",
            "Enter your height in meters: 53\n",
            "Your BMI is 0.02\n"
          ]
        }
      ]
    },
    {
      "cell_type": "code",
      "source": [
        "#4\n",
        "import math\n",
        "\n",
        "num = float(input(\"Enter a positive number: \"))\n",
        "\n",
        "if num <= 0:\n",
        "    print(\"Please enter a positive number.\")\n",
        "else:\n",
        "    logarithm = math.log(num)\n",
        "    print(\"The natural logarithm of\", num, \"is\", logarithm)\n"
      ],
      "metadata": {
        "colab": {
          "base_uri": "https://localhost:8080/"
        },
        "id": "-gLDDmkABTBQ",
        "outputId": "40890c0e-8829-48de-8559-2ac7368c93ed"
      },
      "execution_count": 4,
      "outputs": [
        {
          "output_type": "stream",
          "name": "stdout",
          "text": [
            "Enter a positive number: 12\n",
            "The natural logarithm of 12.0 is 2.4849066497880004\n"
          ]
        }
      ]
    },
    {
      "cell_type": "code",
      "source": [
        "#5\n",
        "def cube_sum(n):\n",
        "    sum = 0\n",
        "    for i in range(1, n + 1):\n",
        "        sum += i ** 3\n",
        "    return sum\n",
        "\n",
        "n = int(input(\"Enter the value of n: \"))\n",
        "\n",
        "if n < 0:\n",
        "    print(\"Please enter a non-negative integer.\")\n",
        "else:\n",
        "    result = cube_sum(n)\n",
        "    print(\"Cube sum of first\", n, \"natural numbers is\", result)\n"
      ],
      "metadata": {
        "colab": {
          "base_uri": "https://localhost:8080/"
        },
        "id": "yE3cy3VUBZBf",
        "outputId": "06ffa01b-8ad2-45fd-b80d-dbf8ed8854b8"
      },
      "execution_count": 5,
      "outputs": [
        {
          "output_type": "stream",
          "name": "stdout",
          "text": [
            "Enter the value of n: 4\n",
            "Cube sum of first 4 natural numbers is 100\n"
          ]
        }
      ]
    }
  ]
}