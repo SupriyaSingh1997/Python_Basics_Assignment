{
  "nbformat": 4,
  "nbformat_minor": 0,
  "metadata": {
    "colab": {
      "provenance": [],
      "authorship_tag": "ABX9TyOgntlvIOoiPXXjHZyf9ENs",
      "include_colab_link": true
    },
    "kernelspec": {
      "name": "python3",
      "display_name": "Python 3"
    },
    "language_info": {
      "name": "python"
    }
  },
  "cells": [
    {
      "cell_type": "markdown",
      "metadata": {
        "id": "view-in-github",
        "colab_type": "text"
      },
      "source": [
        "<a href=\"https://colab.research.google.com/github/SupriyaSingh1997/Python_Basics_Assignment/blob/main/Programming_Assignment_10.ipynb\" target=\"_parent\"><img src=\"https://colab.research.google.com/assets/colab-badge.svg\" alt=\"Open In Colab\"/></a>"
      ]
    },
    {
      "cell_type": "code",
      "execution_count": 1,
      "metadata": {
        "colab": {
          "base_uri": "https://localhost:8080/"
        },
        "id": "591eCwKz9N4U",
        "outputId": "3cbd5ba3-671e-40ea-f960-7e373688a5b2"
      },
      "outputs": [
        {
          "output_type": "stream",
          "name": "stdout",
          "text": [
            "15\n"
          ]
        }
      ],
      "source": [
        "#1\n",
        "def sum_of_elements(lst):\n",
        "    return sum(lst)\n",
        "\n",
        "# Example usage\n",
        "my_list = [1, 2, 3, 4, 5]\n",
        "result = sum_of_elements(my_list)\n",
        "print(result)  # Output: 15\n"
      ]
    },
    {
      "cell_type": "code",
      "source": [
        "#2\n",
        "def multiply_numbers(lst):\n",
        "    result = 1\n",
        "    for num in lst:\n",
        "        result *= num\n",
        "    return result\n",
        "\n",
        "# Example usage\n",
        "my_list = [2, 3, 4]\n",
        "result = multiply_numbers(my_list)\n",
        "print(result)  # Output: 24\n"
      ],
      "metadata": {
        "colab": {
          "base_uri": "https://localhost:8080/"
        },
        "id": "CPbyVdA29Q5U",
        "outputId": "281299b9-7abb-4d4e-c98d-0e76201c3f05"
      },
      "execution_count": 2,
      "outputs": [
        {
          "output_type": "stream",
          "name": "stdout",
          "text": [
            "24\n"
          ]
        }
      ]
    },
    {
      "cell_type": "code",
      "source": [
        "#3\n",
        "def find_smallest_number(lst):\n",
        "    return min(lst)\n",
        "\n",
        "# Example usage\n",
        "my_list = [5, 3, 9, 1, 7]\n",
        "result = find_smallest_number(my_list)\n",
        "print(result)  # Output: 1\n"
      ],
      "metadata": {
        "colab": {
          "base_uri": "https://localhost:8080/"
        },
        "id": "n982hqXc9TCE",
        "outputId": "66114ee6-1de8-413d-ef1d-ef1dcbfbbb16"
      },
      "execution_count": 3,
      "outputs": [
        {
          "output_type": "stream",
          "name": "stdout",
          "text": [
            "1\n"
          ]
        }
      ]
    },
    {
      "cell_type": "code",
      "source": [
        "#4\n",
        "def find_largest_number(lst):\n",
        "    return max(lst)\n",
        "\n",
        "# Example usage\n",
        "my_list = [5, 3, 9, 1, 7]\n",
        "result = find_largest_number(my_list)\n",
        "print(result)  # Output: 9\n"
      ],
      "metadata": {
        "colab": {
          "base_uri": "https://localhost:8080/"
        },
        "id": "Lw0DIacS9VBp",
        "outputId": "22e93f27-fb32-4b68-b8fe-73b73ec5adba"
      },
      "execution_count": 4,
      "outputs": [
        {
          "output_type": "stream",
          "name": "stdout",
          "text": [
            "9\n"
          ]
        }
      ]
    },
    {
      "cell_type": "code",
      "source": [
        "#5\n",
        "def find_second_largest_number(lst):\n",
        "    sorted_list = sorted(lst, reverse=True)\n",
        "    return sorted_list[1]\n",
        "\n",
        "# Example usage\n",
        "my_list = [5, 3, 9, 1, 7]\n",
        "result = find_second_largest_number(my_list)\n",
        "print(result)  # Output: 7\n"
      ],
      "metadata": {
        "colab": {
          "base_uri": "https://localhost:8080/"
        },
        "id": "4aSuB-wg9XJN",
        "outputId": "1a289dd3-4f96-4722-9a75-da8debcdcde2"
      },
      "execution_count": 5,
      "outputs": [
        {
          "output_type": "stream",
          "name": "stdout",
          "text": [
            "7\n"
          ]
        }
      ]
    },
    {
      "cell_type": "code",
      "source": [
        "#6\n",
        "import heapq\n",
        "\n",
        "def find_n_largest_elements(lst, n):\n",
        "    return heapq.nlargest(n, lst)\n",
        "\n",
        "# Example usage\n",
        "my_list = [5, 3, 9, 1, 7]\n",
        "result = find_n_largest_elements(my_list, 3)\n",
        "print(result)  # Output: [9, 7, 5]\n"
      ],
      "metadata": {
        "colab": {
          "base_uri": "https://localhost:8080/"
        },
        "id": "r9wCRqQa9ZVR",
        "outputId": "90b71d9a-0491-4ac2-c607-1e7f5112236e"
      },
      "execution_count": 6,
      "outputs": [
        {
          "output_type": "stream",
          "name": "stdout",
          "text": [
            "[9, 7, 5]\n"
          ]
        }
      ]
    },
    {
      "cell_type": "code",
      "source": [
        "#7\n",
        "def print_even_numbers(lst):\n",
        "    for num in lst:\n",
        "        if num % 2 == 0:\n",
        "            print(num)\n",
        "\n",
        "# Example usage\n",
        "my_list = [1, 2, 3, 4, 5, 6]\n",
        "print_even_numbers(my_list)\n",
        "# Output: 2, 4, 6 (each number on a separate line)\n"
      ],
      "metadata": {
        "colab": {
          "base_uri": "https://localhost:8080/"
        },
        "id": "TLMiNM969bc7",
        "outputId": "3d206bb0-0b23-48bf-aa0a-505f8a98d544"
      },
      "execution_count": 7,
      "outputs": [
        {
          "output_type": "stream",
          "name": "stdout",
          "text": [
            "2\n",
            "4\n",
            "6\n"
          ]
        }
      ]
    },
    {
      "cell_type": "code",
      "source": [
        "#8\n",
        "def print_odd_numbers(lst):\n",
        "    for num in lst:\n",
        "        if num % 2 != 0:\n",
        "            print(num)\n",
        "\n",
        "# Example usage\n",
        "my_list = [1, 2, 3, 4, 5, 6]\n",
        "print_odd_numbers(my_list)\n",
        "# Output: 1, 3, 5 (each number on a separate line)\n"
      ],
      "metadata": {
        "colab": {
          "base_uri": "https://localhost:8080/"
        },
        "id": "m8lY5bmO9d4O",
        "outputId": "833df840-ef01-4cd6-8df5-81e6f7c7454e"
      },
      "execution_count": 8,
      "outputs": [
        {
          "output_type": "stream",
          "name": "stdout",
          "text": [
            "1\n",
            "3\n",
            "5\n"
          ]
        }
      ]
    },
    {
      "cell_type": "code",
      "source": [
        "#9\n",
        "def remove_empty_lists(lst):\n",
        "    return [sublist for sublist in lst if sublist]\n",
        "\n",
        "# Example usage\n",
        "my_list = [1, [], [2, 3], [], 4, [], [5, 6]]\n",
        "result = remove_empty_lists(my_list)\n",
        "print(result)  # Output: [1, [2, 3], 4, [5, 6]]\n"
      ],
      "metadata": {
        "colab": {
          "base_uri": "https://localhost:8080/"
        },
        "id": "ueML8oVn9gZ1",
        "outputId": "dd6ef05b-21fd-468c-f81b-2a25a3d4976a"
      },
      "execution_count": 9,
      "outputs": [
        {
          "output_type": "stream",
          "name": "stdout",
          "text": [
            "[1, [2, 3], 4, [5, 6]]\n"
          ]
        }
      ]
    },
    {
      "cell_type": "code",
      "source": [
        "#10\n",
        "def clone_list(lst):\n",
        "    return lst[:]\n",
        "\n",
        "# Example usage\n",
        "my_list = [1, 2, 3]\n",
        "clone = clone_list(my_list)\n",
        "print(clone)  # Output: [1, 2, 3]\n"
      ],
      "metadata": {
        "colab": {
          "base_uri": "https://localhost:8080/"
        },
        "id": "DUBwDg4m9iw3",
        "outputId": "5c27e159-d4c4-4dd4-d301-7c9c26d26bb8"
      },
      "execution_count": 10,
      "outputs": [
        {
          "output_type": "stream",
          "name": "stdout",
          "text": [
            "[1, 2, 3]\n"
          ]
        }
      ]
    },
    {
      "cell_type": "code",
      "source": [
        "#11\n",
        "def count_occurrences(lst, element):\n",
        "    return lst.count(element)\n",
        "\n",
        "# Example usage\n",
        "my_list = [1, 2, 3, 1, 4, 1]\n",
        "result = count_occurrences(my_list, 1)\n",
        "print(result)  # Output: 3\n"
      ],
      "metadata": {
        "colab": {
          "base_uri": "https://localhost:8080/"
        },
        "id": "YBT2oXQW9lCA",
        "outputId": "51a866ea-3681-4c93-ae76-0ca0de1f49e1"
      },
      "execution_count": 11,
      "outputs": [
        {
          "output_type": "stream",
          "name": "stdout",
          "text": [
            "3\n"
          ]
        }
      ]
    }
  ]
}